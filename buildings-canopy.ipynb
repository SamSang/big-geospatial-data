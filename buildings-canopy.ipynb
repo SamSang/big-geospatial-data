{
 "cells": [
  {
   "cell_type": "markdown",
   "id": "b06e97ab",
   "metadata": {},
   "source": [
    "# Merge added buildings with tree canopy changes\n",
    "\n",
    "Summarize the qualities of the tree canopy changes for the footprints of the added buildings."
   ]
  },
  {
   "cell_type": "code",
   "execution_count": 1,
   "id": "4cf3517a",
   "metadata": {},
   "outputs": [],
   "source": [
    "import fiona\n",
    "from pathlib import Path\n",
    "import rasterio\n",
    "import rasterio.mask\n",
    "import numpy as np"
   ]
  },
  {
   "cell_type": "code",
   "execution_count": 2,
   "id": "a87fd17b",
   "metadata": {},
   "outputs": [],
   "source": [
    "buildings_added_shapefile = Path(\"building_added\", \"building_added.shp\")\n",
    "\n",
    "canopy_diff_rasterfile = Path(\"CanopyDiff.tif\")"
   ]
  },
  {
   "cell_type": "markdown",
   "id": "b31e3bac",
   "metadata": {},
   "source": [
    "The new file we'll write merged data to"
   ]
  },
  {
   "cell_type": "code",
   "execution_count": 3,
   "id": "58b38018",
   "metadata": {},
   "outputs": [],
   "source": [
    "buildings_canopy_shapefile = Path(\"buildings_canopy\", \"buildings_canopy.shp\")\n",
    "\n",
    "buildings_canopy_shapefile.parent.mkdir(exist_ok=True)"
   ]
  },
  {
   "cell_type": "code",
   "execution_count": 4,
   "id": "6d2d40b7",
   "metadata": {},
   "outputs": [
    {
     "name": "stdout",
     "output_type": "stream",
     "text": [
      "{'properties': OrderedDict([('OBJECTID', 'int:11'), ('BIN', 'str:7'), ('FCODE', 'int:6'), ('ADDRESS', 'str:39'), ('BUILDING_N', 'str:110'), ('BASE_ELEVA', 'float:32.10'), ('APPROX_HGT', 'int:6'), ('MAX_HGT', 'float:32.10'), ('PARCEL_ID_', 'str:10'), ('PARCEL_I_1', 'str:3'), ('SHAPE__ARE', 'float:32.10'), ('SHAPE__LEN', 'float:32.10'), ('tree_sum', 'float')]), 'geometry': 'Polygon'}\n",
      "0\n",
      "100\n",
      "200\n",
      "300\n",
      "400\n",
      "500\n",
      "600\n",
      "700\n",
      "800\n",
      "900\n",
      "1000\n",
      "1100\n",
      "1200\n",
      "1300\n",
      "1400\n",
      "1500\n",
      "1600\n",
      "1700\n",
      "1800\n",
      "1900\n",
      "2000\n",
      "2100\n",
      "2200\n",
      "2300\n",
      "2400\n",
      "2500\n",
      "2600\n",
      "2700\n",
      "2800\n",
      "2900\n",
      "3000\n",
      "3100\n",
      "3200\n",
      "3300\n",
      "3400\n",
      "3500\n",
      "3600\n",
      "3700\n",
      "3800\n",
      "3900\n",
      "4000\n",
      "4100\n",
      "4200\n",
      "4300\n",
      "4400\n",
      "4500\n",
      "4600\n",
      "4700\n",
      "4800\n",
      "4900\n",
      "5000\n",
      "5100\n",
      "5200\n",
      "5300\n",
      "5400\n",
      "5500\n",
      "5600\n",
      "5700\n",
      "5800\n",
      "5900\n",
      "6000\n",
      "6100\n",
      "6200\n",
      "6300\n",
      "6400\n",
      "6500\n",
      "6600\n",
      "6700\n",
      "6800\n",
      "6900\n",
      "7000\n",
      "7100\n",
      "7200\n",
      "7300\n",
      "7400\n",
      "7500\n",
      "7600\n",
      "7700\n"
     ]
    }
   ],
   "source": [
    "canopy_diff_raster = rasterio.open(canopy_diff_rasterfile)\n",
    "\n",
    "with fiona.open(buildings_added_shapefile) as source:\n",
    "    schema = source.schema.copy()\n",
    "    schema[\"properties\"][\"tree_sum\"] = \"float\"\n",
    "    print(schema)\n",
    "    with fiona.open(buildings_canopy_shapefile, \"w\", \n",
    "                   driver=source.driver,\n",
    "                   crs=source.crs,\n",
    "                   schema=schema) as target:\n",
    "        for index, feature in enumerate(source):\n",
    "            if index % 100 == 0:\n",
    "                print(index)\n",
    "            properties = feature[\"properties\"]\n",
    "            geometry = feature[\"geometry\"]\n",
    "            geometries = [geometry] # rasterio wants a list of geometries\n",
    "            \n",
    "            # mask the raster using the feature's polygon(s)\n",
    "            raster_image, out_transformation = rasterio.mask.mask(canopy_diff_raster,\n",
    "                                                                  geometries,\n",
    "                                                                  crop=True)\n",
    "            \n",
    "            # summarize the pixels in that raster image\n",
    "            #print(raster_image)\n",
    "            trees = np.float32(raster_image[0, :, :])\n",
    "            \n",
    "            # update the schema with the computed data\n",
    "            properties[\"tree_sum\"] = float(np.sum(trees))\n",
    "            \n",
    "            # write the row to the output file\n",
    "            target.write({\"properties\": properties,\n",
    "                         \"geometry\": geometry})"
   ]
  },
  {
   "cell_type": "markdown",
   "id": "97cfd54b",
   "metadata": {},
   "source": [
    "Read the new shapefile and build a histogram"
   ]
  },
  {
   "cell_type": "code",
   "execution_count": 5,
   "id": "e52862c5",
   "metadata": {},
   "outputs": [],
   "source": [
    "# from geopandas import GeoDataFrame as gdf\n",
    "import geopandas as gpd"
   ]
  },
  {
   "cell_type": "code",
   "execution_count": 6,
   "id": "dd171272",
   "metadata": {},
   "outputs": [],
   "source": [
    "gdf = gpd.read_file(buildings_canopy_shapefile)"
   ]
  },
  {
   "cell_type": "code",
   "execution_count": 7,
   "id": "50026535",
   "metadata": {
    "scrolled": true
   },
   "outputs": [
    {
     "data": {
      "text/plain": [
       "array([[<Axes: title={'center': 'tree_sum'}>]], dtype=object)"
      ]
     },
     "execution_count": 7,
     "metadata": {},
     "output_type": "execute_result"
    },
    {
     "data": {
      "image/png": "[encoded data removed]",
      "text/plain": [
       "<Figure size 640x480 with 1 Axes>"
      ]
     },
     "metadata": {},
     "output_type": "display_data"
    }
   ],
   "source": [
    "gdf.hist(column=\"tree_sum\", bins=100)"
   ]
  }
 ],
 "metadata": {
  "kernelspec": {
   "display_name": "Python 3 (ipykernel)",
   "language": "python",
   "name": "python3"
  },
  "language_info": {
   "codemirror_mode": {
    "name": "ipython",
    "version": 3
   },
   "file_extension": ".py",
   "mimetype": "text/x-python",
   "name": "python",
   "nbconvert_exporter": "python",
   "pygments_lexer": "ipython3",
   "version": "3.9.18"
  }
 },
 "nbformat": 4,
 "nbformat_minor": 5
}
